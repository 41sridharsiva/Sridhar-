{
 "cells": [
  {
   "cell_type": "markdown",
   "id": "e5d33e92",
   "metadata": {},
   "source": [
    "# MICRO PROJECT\n",
    "# DS225229139"
   ]
  },
  {
   "cell_type": "markdown",
   "id": "06b2a9af",
   "metadata": {},
   "source": [
    "Imports the pandas library, which is used for data manipulation and analysis."
   ]
  },
  {
   "cell_type": "code",
   "execution_count": 1,
   "id": "01f1d088",
   "metadata": {},
   "outputs": [],
   "source": [
    "import pandas as pd"
   ]
  },
  {
   "cell_type": "markdown",
   "id": "534614ad",
   "metadata": {},
   "source": [
    "Read the dataset from a CSV file, replace categorical variables with numerical values, and preprocess the data by dropping the date and num_sold columns."
   ]
  },
  {
   "cell_type": "code",
   "execution_count": 2,
   "id": "31875da2",
   "metadata": {},
   "outputs": [],
   "source": [
    "# Load the data\n",
    "data = pd.read_csv(\"train.csv\")\n",
    "\n",
    "# Preprocess the data\n",
    "data['country'].replace(['Finland', 'Norway', 'Sweden'], [1, 2, 3], inplace=True)\n",
    "data['store'].replace(['KaggleMart', 'KaggleRama'], [1, 2], inplace=True)\n",
    "data['product'].replace(['Kaggle Mug', 'Kaggle Hat', 'Kaggle Sticker'], [1, 2, 3], inplace=True)\n",
    "X = data.drop(['date', 'num_sold'], axis=1)\n",
    "y = data['num_sold']"
   ]
  },
  {
   "cell_type": "markdown",
   "id": "c9a0ae8f",
   "metadata": {},
   "source": [
    "Imports the train_test_split function from the scikit-learn library, which is used to split the dataset into training and testing sets."
   ]
  },
  {
   "cell_type": "code",
   "execution_count": 3,
   "id": "a4f4fc73",
   "metadata": {},
   "outputs": [],
   "source": [
    "from sklearn.model_selection import train_test_split"
   ]
  },
  {
   "cell_type": "markdown",
   "id": "ba65b72f",
   "metadata": {},
   "source": [
    "Splits the dataset into training and testing sets, with a test size of 0.2 (meaning 20% of the data will be used for testing) and a random state of 42 (so that the same random split can be obtained every time the code is run)."
   ]
  },
  {
   "cell_type": "code",
   "execution_count": 4,
   "id": "4854ba4d",
   "metadata": {},
   "outputs": [],
   "source": [
    "X_train, X_test, y_train, y_test = train_test_split(X, y, test_size=0.2, random_state=42)"
   ]
  },
  {
   "cell_type": "markdown",
   "id": "e26cf6d0",
   "metadata": {},
   "source": [
    "Imports the Support Vector Machine (SVM) model from the scikit-learn library."
   ]
  },
  {
   "cell_type": "code",
   "execution_count": 5,
   "id": "8399a634",
   "metadata": {},
   "outputs": [],
   "source": [
    "from sklearn.svm import SVR"
   ]
  },
  {
   "cell_type": "markdown",
   "id": "85af18f9",
   "metadata": {},
   "source": [
    "Creates an instance of the SVM model."
   ]
  },
  {
   "cell_type": "code",
   "execution_count": 6,
   "id": "e9b914a3",
   "metadata": {},
   "outputs": [],
   "source": [
    "model = SVR()"
   ]
  },
  {
   "cell_type": "markdown",
   "id": "89a3718e",
   "metadata": {},
   "source": [
    "Fits the SVM model to the training data."
   ]
  },
  {
   "cell_type": "code",
   "execution_count": 8,
   "id": "b5508453",
   "metadata": {},
   "outputs": [
    {
     "data": {
      "text/plain": [
       "SVR()"
      ]
     },
     "execution_count": 8,
     "metadata": {},
     "output_type": "execute_result"
    }
   ],
   "source": [
    "model.fit(X_train, y_train)"
   ]
  },
  {
   "cell_type": "markdown",
   "id": "dc33eee0",
   "metadata": {},
   "source": [
    "Make predictions on the testing data and calculate the mean absolute error (MAE) between the true values and the predicted values. The MAE is a measure of how close the predictions are to the true values, and a lower value indicates a better performance of the model."
   ]
  },
  {
   "cell_type": "code",
   "execution_count": 15,
   "id": "ac0d3c48",
   "metadata": {},
   "outputs": [
    {
     "ename": "NameError",
     "evalue": "name 'mean_absolute_error' is not defined",
     "output_type": "error",
     "traceback": [
      "\u001b[1;31m---------------------------------------------------------------------------\u001b[0m",
      "\u001b[1;31mNameError\u001b[0m                                 Traceback (most recent call last)",
      "Input \u001b[1;32mIn [15]\u001b[0m, in \u001b[0;36m<cell line: 2>\u001b[1;34m()\u001b[0m\n\u001b[0;32m      1\u001b[0m y_pred \u001b[38;5;241m=\u001b[39m model\u001b[38;5;241m.\u001b[39mpredict(X_test)\n\u001b[1;32m----> 2\u001b[0m accuracy \u001b[38;5;241m=\u001b[39m \u001b[43mmean_absolute_error\u001b[49m(y_test, y_pred)\n\u001b[0;32m      3\u001b[0m \u001b[38;5;28mprint\u001b[39m(\u001b[38;5;124m\"\u001b[39m\u001b[38;5;124mAccuracy:\u001b[39m\u001b[38;5;124m\"\u001b[39m, accuracy)\n",
      "\u001b[1;31mNameError\u001b[0m: name 'mean_absolute_error' is not defined"
     ]
    }
   ],
   "source": [
    "y_pred = model.predict(X_test)\n",
    "accuracy = mean_absolute_error(y_test, y_pred)\n",
    "print(\"Accuracy:\", accuracy)"
   ]
  },
  {
   "cell_type": "code",
   "execution_count": null,
   "id": "2fd1c197",
   "metadata": {},
   "outputs": [],
   "source": []
  }
 ],
 "metadata": {
  "kernelspec": {
   "display_name": "Python 3 (ipykernel)",
   "language": "python",
   "name": "python3"
  },
  "language_info": {
   "codemirror_mode": {
    "name": "ipython",
    "version": 3
   },
   "file_extension": ".py",
   "mimetype": "text/x-python",
   "name": "python",
   "nbconvert_exporter": "python",
   "pygments_lexer": "ipython3",
   "version": "3.9.12"
  }
 },
 "nbformat": 4,
 "nbformat_minor": 5
}

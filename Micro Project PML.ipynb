{
 "cells": [
  {
   "cell_type": "markdown",
   "id": "88ccefbd",
   "metadata": {},
   "source": [
    "# MICRO PROJECT\n",
    "# DS225229139"
   ]
  },
  {
   "cell_type": "markdown",
   "id": "d2a9107f",
   "metadata": {},
   "source": [
    "Imports the pandas library, which is used for data manipulation and analysis."
   ]
  },
  {
   "cell_type": "code",
   "execution_count": 1,
   "id": "cbde478b",
   "metadata": {},
   "outputs": [],
   "source": [
    "import pandas as pd"
   ]
  },
  {
   "cell_type": "markdown",
   "id": "5f55ad61",
   "metadata": {},
   "source": [
    "Read the dataset from a CSV file, replace categorical variables with numerical values, and preprocess the data by dropping the date and num_sold columns."
   ]
  },
  {
   "cell_type": "code",
   "execution_count": 2,
   "id": "a151dc61",
   "metadata": {},
   "outputs": [],
   "source": [
    "# Load the data\n",
    "data = pd.read_csv(\"train.csv\")\n",
    "\n",
    "# Preprocess the data\n",
    "data['country'].replace(['Finland', 'Norway', 'Sweden'], [1, 2, 3], inplace=True)\n",
    "data['store'].replace(['KaggleMart', 'KaggleRama'], [1, 2], inplace=True)\n",
    "data['product'].replace(['Kaggle Mug', 'Kaggle Hat', 'Kaggle Sticker'], [1, 2, 3], inplace=True)\n",
    "X = data.drop(['date', 'num_sold'], axis=1)\n",
    "y = data['num_sold']"
   ]
  },
  {
   "cell_type": "markdown",
   "id": "77be400d",
   "metadata": {},
   "source": [
    "Imports the train_test_split function from the scikit-learn library, which is used to split the dataset into training and testing sets."
   ]
  },
  {
   "cell_type": "code",
   "execution_count": 3,
   "id": "48003b9e",
   "metadata": {},
   "outputs": [],
   "source": [
    "from sklearn.model_selection import train_test_split"
   ]
  },
  {
   "cell_type": "markdown",
   "id": "e1d0ae72",
   "metadata": {},
   "source": [
    "Splits the dataset into training and testing sets, with a test size of 0.2 (meaning 20% of the data will be used for testing) and a random state of 42 (so that the same random split can be obtained every time the code is run)."
   ]
  },
  {
   "cell_type": "code",
   "execution_count": 4,
   "id": "05199df6",
   "metadata": {},
   "outputs": [],
   "source": [
    "X_train, X_test, y_train, y_test = train_test_split(X, y, test_size=0.2, random_state=42)"
   ]
  },
  {
   "cell_type": "markdown",
   "id": "93f5e779",
   "metadata": {},
   "source": [
    "Imports the Support Vector Machine (SVM) model from the scikit-learn library."
   ]
  },
  {
   "cell_type": "code",
   "execution_count": 5,
   "id": "519d69b5",
   "metadata": {},
   "outputs": [],
   "source": [
    "from sklearn.svm import SVR"
   ]
  },
  {
   "cell_type": "markdown",
   "id": "81617e8e",
   "metadata": {},
   "source": [
    "Creates an instance of the SVM model."
   ]
  },
  {
   "cell_type": "code",
   "execution_count": 6,
   "id": "453c93fd",
   "metadata": {},
   "outputs": [],
   "source": [
    "model = SVR()"
   ]
  },
  {
   "cell_type": "markdown",
   "id": "19f77657",
   "metadata": {},
   "source": [
    "Fits the SVM model to the training data."
   ]
  },
  {
   "cell_type": "code",
   "execution_count": 8,
   "id": "dc3523a0",
   "metadata": {},
   "outputs": [
    {
     "data": {
      "text/plain": [
       "SVR()"
      ]
     },
     "execution_count": 8,
     "metadata": {},
     "output_type": "execute_result"
    }
   ],
   "source": [
    "model.fit(X_train, y_train)"
   ]
  },
  {
   "cell_type": "markdown",
   "id": "813ff40e",
   "metadata": {},
   "source": [
    "Make predictions on the testing data and calculate the mean absolute error (MAE) between the true values and the predicted values. The MAE is a measure of how close the predictions are to the true values, and a lower value indicates a better performance of the model."
   ]
  },
  {
   "cell_type": "code",
   "execution_count": 16,
   "id": "e29fe48b",
   "metadata": {},
   "outputs": [],
   "source": [
    "from sklearn.metrics import mean_absolute_error"
   ]
  },
  {
   "cell_type": "code",
   "execution_count": 17,
   "id": "fd9a6f76",
   "metadata": {
    "scrolled": true
   },
   "outputs": [
    {
     "name": "stdout",
     "output_type": "stream",
     "text": [
      "Accuracy: 193.52142565152167\n"
     ]
    }
   ],
   "source": [
    "y_pred = model.predict(X_test)\n",
    "accuracy = mean_absolute_error(y_test, y_pred)\n",
    "print(\"Accuracy:\", accuracy)"
   ]
  },
  {
   "cell_type": "code",
   "execution_count": null,
   "id": "f4e1078a",
   "metadata": {},
   "outputs": [],
   "source": []
  }
 ],
 "metadata": {
  "kernelspec": {
   "display_name": "Python 3 (ipykernel)",
   "language": "python",
   "name": "python3"
  },
  "language_info": {
   "codemirror_mode": {
    "name": "ipython",
    "version": 3
   },
   "file_extension": ".py",
   "mimetype": "text/x-python",
   "name": "python",
   "nbconvert_exporter": "python",
   "pygments_lexer": "ipython3",
   "version": "3.9.12"
  }
 },
 "nbformat": 4,
 "nbformat_minor": 5
}
